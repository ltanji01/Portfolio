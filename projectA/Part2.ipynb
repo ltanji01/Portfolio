{
 "cells": [
  {
   "cell_type": "code",
   "execution_count": null,
   "metadata": {},
   "outputs": [],
   "source": [
    "import os\n",
    "import numpy as np\n",
    "import pandas as pd\n",
    "import sklearn.linear_model as sklm\n",
    "import sklearn.pipeline\n",
    "import sklearn.model_selection as skms\n",
    "import sklearn.feature_selection \n",
    "from sklearn.feature_extraction.text import CountVectorizer\n",
    "from sklearn.metrics import roc_auc_score, roc_curve, confusion_matrix, ConfusionMatrixDisplay\n",
    "from sklearn.model_selection import RandomizedSearchCV\n",
    "import matplotlib.pyplot as plt\n",
    "\n",
    "# Import our filess\n",
    "from load_train_data import load_data \n",
    "from clean_tokens import lemmetize2"
   ]
  },
  {
   "cell_type": "code",
   "execution_count": null,
   "metadata": {},
   "outputs": [],
   "source": [
    "import nltk\n",
    "from nltk.tag import pos_tag\n",
    "nltk.download('averaged_perceptron_tagger')\n",
    "nltk.download('universal_tagset')\n",
    "nltk.download('wordnet')\n",
    "from nltk.corpus import stopwords\n",
    "from nltk.tokenize import regexp_tokenize\n",
    "from nltk.corpus import webtext, brown\n",
    "from nltk import ngrams, FreqDist\n",
    "from nltk.stem import WordNetLemmatizer"
   ]
  },
  {
   "cell_type": "markdown",
   "metadata": {},
   "source": [
    "# Outline\n",
    "* [Part 1: Clean Tokens](#part1)\n",
    "* [Part 2: Retrieve Initial Best Params](#part2)\n",
    "* [Part 3: Misclassification on Training Set](#part3)\n",
    "* [Part 4: Fine Search for Each Hyperparameter](#part4)\n",
    "* [Part 5: Visualizing Effect of Varied C and Max Iteration on AUROC Score](#part5)"
   ]
  },
  {
   "cell_type": "markdown",
   "metadata": {},
   "source": [
    "<a id='part1'></a>\n",
    "# Clean Tokens: "
   ]
  },
  {
   "cell_type": "markdown",
   "metadata": {},
   "source": [
    "Loading data from csv files"
   ]
  },
  {
   "cell_type": "code",
   "execution_count": 43,
   "metadata": {},
   "outputs": [],
   "source": [
    "website_list, review_list, rating_list = load_data('x_train.csv', 'y_train.csv')"
   ]
  },
  {
   "cell_type": "code",
   "execution_count": 48,
   "metadata": {},
   "outputs": [],
   "source": [
    "#dividing reviews by website:\n",
    "yelp_reviews = list()\n",
    "imdb_reviews= list()\n",
    "amazon_reviews = list()\n",
    "\n",
    "for i in range(len(website_list)):\n",
    "    if website_list[i] == 'yelp':\n",
    "        yelp_reviews.append(review_list[i])\n",
    "    elif website_list[i] == 'imdb':\n",
    "        imdb_reviews.append(review_list[i])\n",
    "    elif website_list[i] == 'amazon':\n",
    "        amazon_reviews.append(review_list[i])"
   ]
  },
  {
   "cell_type": "markdown",
   "metadata": {},
   "source": [
    "Making a custom list of words to remove from tokens. A combined list of stopwords from NLTK library and observed non-predictive words. "
   ]
  },
  {
   "cell_type": "code",
   "execution_count": 49,
   "metadata": {},
   "outputs": [],
   "source": [
    "stoppedWords = stopwords.words('english')\n",
    "added_words = [\"i've\", \"i'd\", \"i'm\", \"that's\", \"i'll\", \"was\", \"as\", \"us\", \"was\", \"as\"]\n",
    "stoppedWords.extend(added_words)"
   ]
  },
  {
   "cell_type": "code",
   "execution_count": null,
   "metadata": {},
   "outputs": [],
   "source": [
    "final = lemmetize2(review_list)"
   ]
  },
  {
   "cell_type": "markdown",
   "metadata": {},
   "source": [
    "<b id='part2'></b>\n",
    "# Coarse hyperparameter search \n",
    "Trying following parameters:\n",
    "* Regularization strength C: 0.1 to 20\n",
    "* penalty: L1, L2\n",
    "* max iterations: 80 to 100\n",
    "* Number of folds for cross validation = 5"
   ]
  },
  {
   "cell_type": "code",
   "execution_count": null,
   "metadata": {},
   "outputs": [],
   "source": [
    "logistic = sklm.LogisticRegression(solver='liblinear', max_iter=250)\n",
    "distributions = dict(C=np.logspace(np.log10(0.1),np.log10(20), 200), penalty = ['l1', 'l2'])\n",
    "\n",
    "#Pipeline starts!\n",
    "p2_bow_classifier_pipeline = sklearn.pipeline.Pipeline([\n",
    "    ('my_bow_feature_extractor', CountVectorizer(token_pattern='\\w+', min_df= 1, ngram_range=(1, 2))),\n",
    "    ('cross validation', skms.RandomizedSearchCV(logistic, distributions, n_iter=300, cv=5, verbose=0, \n",
    "                                                 random_state=0, error_score='raise', \n",
    "                                                 return_train_score=True, scoring='roc_auc'))\n",
    "])\n",
    "\n",
    "# Final is the list of cleaned and lemmetized reviews\n",
    "p2_bow_classifier_pipeline.fit(final, rating_list)\n",
    "p2_bow_classifier_pipeline.predict(final)\n",
    "p2_bow_classifier_pipeline.score(final, rating_list)"
   ]
  },
  {
   "cell_type": "code",
   "execution_count": null,
   "metadata": {},
   "outputs": [],
   "source": [
    "print(p2_bow_classifier_pipeline['cross validation'].best_params_)"
   ]
  },
  {
   "cell_type": "code",
   "execution_count": 55,
   "metadata": {},
   "outputs": [],
   "source": [
    "yhat2 = p2_bow_classifier_pipeline.predict(final)\n",
    "yhatProbs2 = p2_bow_classifier_pipeline.predict_proba(final)\n",
    "\n",
    "for Idx in np.arange(len(yhat2)):\n",
    "    if yhat2[Idx] != rating_list[Idx]:\n",
    "        print('True %s|%s Pred| %1.3f| %s| %s' % (rating_list[Idx], yhat2[Idx], yhatProbs2[Idx][1], review_list[Idx], final[Idx]))"
   ]
  },
  {
   "cell_type": "code",
   "execution_count": 56,
   "metadata": {},
   "outputs": [],
   "source": [
    "my_dict = p2_bow_classifier_pipeline['my_bow_feature_extractor'].vocabulary_"
   ]
  },
  {
   "cell_type": "markdown",
   "metadata": {},
   "source": [
    "<c id='part3'></c>\n",
    "# Misclassifications on Training Set\n",
    "Visualizing which reviews were misclassified to improve the AUROC score"
   ]
  },
  {
   "cell_type": "code",
   "execution_count": null,
   "metadata": {},
   "outputs": [],
   "source": [
    "yhat = p2_bow_classifier_pipeline.predict(review_list)\n",
    "yhatProbs = p2_bow_classifier_pipeline.predict_proba(review_list)\n",
    "print(yhat)\n",
    "\n",
    "for revIdx in np.arange(len(yhat)):\n",
    "    if yhat[revIdx] != rating_list[revIdx]:\n",
    "        print('True %s|%s Pred| %1.3f| %s' % (rating_list[revIdx], yhat[revIdx], yhatProbs[revIdx][1], review_list[revIdx]))"
   ]
  },
  {
   "cell_type": "markdown",
   "metadata": {},
   "source": [
    "<d id='part4'></d>\n",
    "# Evaluate on Test Data\n",
    "Trying out our current best hyperparameters on the test set to see actual performance."
   ]
  },
  {
   "cell_type": "code",
   "execution_count": null,
   "metadata": {},
   "outputs": [],
   "source": [
    "x_te_data = 'x_test.csv'\n",
    "data_dir = 'data_reviews'\n",
    "x_te_df = pd.read_csv(os.path.join(data_dir, x_te_data))\n",
    "te_website_list = x_te_df['website_name'].values.tolist()\n",
    "te_text_list = x_te_df['text'].values.tolist()\n",
    "\n",
    "print(te_text_list)\n",
    "print(lemmetize2(te_text_list))\n",
    "probs_p2 = p2_bow_classifier_pipeline.predict_proba(lemmetize2(te_text_list))[:, 1]\n",
    "pred_p2 = p2_bow_classifier_pipeline.predict(lemmetize2(te_text_list))\n",
    "# print(probs_p2)\n",
    "\n",
    "y_te_data = 'y_test.csv'\n",
    "data_dir = 'data_reviews'\n",
    "y_te_df = pd.read_csv(os.path.join(data_dir, y_te_data))\n",
    "te_rating_list = y_te_df['is_positive_sentiment'].values.tolist()\n",
    "\n",
    "np.savetxt('yproba1_test_lemmatize_1gram.txt', probs_p2, fmt='%s')\n",
    "# np.savetxt('yproba1_test.txt', pred_p2, fmt='%s')\n",
    "q2_acc = roc_auc_score(te_rating_list, probs_p2)\n",
    "real_acc = p2_bow_classifier_pipeline.score(te_text_list, te_rating_list)\n",
    "print(\"Real accuracy: %.3f\" % real_acc)\n",
    "print(\"AUROC Score: %.3f\" % q2_acc)\n",
    "\n",
    "with open('q2_probs_again.txt', 'w') as f:\n",
    "    f.write(str(q2_acc))\n",
    "#a, b, c = roc_curve(te_rating_list, probs_p2)\n",
    "#plt.plot(a, b)"
   ]
  },
  {
   "cell_type": "markdown",
   "metadata": {},
   "source": [
    "<e id='part5'></e>\n",
    "# Fine Search for Each Hyperparameter:\n",
    "Using the best initial parameters from before, do a fine search of eac hyperparameter. "
   ]
  },
  {
   "cell_type": "code",
   "execution_count": 60,
   "metadata": {},
   "outputs": [
    {
     "name": "stdout",
     "output_type": "stream",
     "text": [
      "Best parameters:  {'penalty': 'l2', 'C': 20.000000000000004}\n"
     ]
    }
   ],
   "source": [
    "optParams = p2_bow_classifier_pipeline['cross validation'].best_params_\n",
    "print('Best parameters: ', optParams)\n",
    "finalEstimator = p2_bow_classifier_pipeline.named_steps['cross validation'].best_estimator_"
   ]
  },
  {
   "cell_type": "markdown",
   "metadata": {},
   "source": [
    "### Evaluating best C:"
   ]
  },
  {
   "cell_type": "code",
   "execution_count": 61,
   "metadata": {},
   "outputs": [
    {
     "data": {
      "text/html": [
       "<style>#sk-container-id-3 {color: black;background-color: white;}#sk-container-id-3 pre{padding: 0;}#sk-container-id-3 div.sk-toggleable {background-color: white;}#sk-container-id-3 label.sk-toggleable__label {cursor: pointer;display: block;width: 100%;margin-bottom: 0;padding: 0.3em;box-sizing: border-box;text-align: center;}#sk-container-id-3 label.sk-toggleable__label-arrow:before {content: \"▸\";float: left;margin-right: 0.25em;color: #696969;}#sk-container-id-3 label.sk-toggleable__label-arrow:hover:before {color: black;}#sk-container-id-3 div.sk-estimator:hover label.sk-toggleable__label-arrow:before {color: black;}#sk-container-id-3 div.sk-toggleable__content {max-height: 0;max-width: 0;overflow: hidden;text-align: left;background-color: #f0f8ff;}#sk-container-id-3 div.sk-toggleable__content pre {margin: 0.2em;color: black;border-radius: 0.25em;background-color: #f0f8ff;}#sk-container-id-3 input.sk-toggleable__control:checked~div.sk-toggleable__content {max-height: 200px;max-width: 100%;overflow: auto;}#sk-container-id-3 input.sk-toggleable__control:checked~label.sk-toggleable__label-arrow:before {content: \"▾\";}#sk-container-id-3 div.sk-estimator input.sk-toggleable__control:checked~label.sk-toggleable__label {background-color: #d4ebff;}#sk-container-id-3 div.sk-label input.sk-toggleable__control:checked~label.sk-toggleable__label {background-color: #d4ebff;}#sk-container-id-3 input.sk-hidden--visually {border: 0;clip: rect(1px 1px 1px 1px);clip: rect(1px, 1px, 1px, 1px);height: 1px;margin: -1px;overflow: hidden;padding: 0;position: absolute;width: 1px;}#sk-container-id-3 div.sk-estimator {font-family: monospace;background-color: #f0f8ff;border: 1px dotted black;border-radius: 0.25em;box-sizing: border-box;margin-bottom: 0.5em;}#sk-container-id-3 div.sk-estimator:hover {background-color: #d4ebff;}#sk-container-id-3 div.sk-parallel-item::after {content: \"\";width: 100%;border-bottom: 1px solid gray;flex-grow: 1;}#sk-container-id-3 div.sk-label:hover label.sk-toggleable__label {background-color: #d4ebff;}#sk-container-id-3 div.sk-serial::before {content: \"\";position: absolute;border-left: 1px solid gray;box-sizing: border-box;top: 0;bottom: 0;left: 50%;z-index: 0;}#sk-container-id-3 div.sk-serial {display: flex;flex-direction: column;align-items: center;background-color: white;padding-right: 0.2em;padding-left: 0.2em;position: relative;}#sk-container-id-3 div.sk-item {position: relative;z-index: 1;}#sk-container-id-3 div.sk-parallel {display: flex;align-items: stretch;justify-content: center;background-color: white;position: relative;}#sk-container-id-3 div.sk-item::before, #sk-container-id-3 div.sk-parallel-item::before {content: \"\";position: absolute;border-left: 1px solid gray;box-sizing: border-box;top: 0;bottom: 0;left: 50%;z-index: -1;}#sk-container-id-3 div.sk-parallel-item {display: flex;flex-direction: column;z-index: 1;position: relative;background-color: white;}#sk-container-id-3 div.sk-parallel-item:first-child::after {align-self: flex-end;width: 50%;}#sk-container-id-3 div.sk-parallel-item:last-child::after {align-self: flex-start;width: 50%;}#sk-container-id-3 div.sk-parallel-item:only-child::after {width: 0;}#sk-container-id-3 div.sk-dashed-wrapped {border: 1px dashed gray;margin: 0 0.4em 0.5em 0.4em;box-sizing: border-box;padding-bottom: 0.4em;background-color: white;}#sk-container-id-3 div.sk-label label {font-family: monospace;font-weight: bold;display: inline-block;line-height: 1.2em;}#sk-container-id-3 div.sk-label-container {text-align: center;}#sk-container-id-3 div.sk-container {/* jupyter's `normalize.less` sets `[hidden] { display: none; }` but bootstrap.min.css set `[hidden] { display: none !important; }` so we also need the `!important` here to be able to override the default hidden behavior on the sphinx rendered scikit-learn.org. See: https://github.com/scikit-learn/scikit-learn/issues/21755 */display: inline-block !important;position: relative;}#sk-container-id-3 div.sk-text-repr-fallback {display: none;}</style><div id=\"sk-container-id-3\" class=\"sk-top-container\"><div class=\"sk-text-repr-fallback\"><pre>Pipeline(steps=[(&#x27;my_bow_feature_extractor&#x27;,\n",
       "                 CountVectorizer(max_df=0.08, ngram_range=(1, 2))),\n",
       "                (&#x27;cross validation&#x27;,\n",
       "                 GridSearchCV(cv=5, error_score=&#x27;raise&#x27;,\n",
       "                              estimator=LogisticRegression(max_iter=200,\n",
       "                                                           solver=&#x27;liblinear&#x27;),\n",
       "                              param_grid={&#x27;C&#x27;: array([1.00000000e-09, 2.42446202e-09, 5.87801607e-09, 1.42510267e-08,\n",
       "       3.45510729e-08, 8.37677640e-08, 2.03091762e-07, 4.92388263e...\n",
       "       1.42510267e-03, 3.45510729e-03, 8.37677640e-03, 2.03091762e-02,\n",
       "       4.92388263e-02, 1.19377664e-01, 2.89426612e-01, 7.01703829e-01,\n",
       "       1.70125428e+00, 4.12462638e+00, 1.00000000e+01, 2.42446202e+01,\n",
       "       5.87801607e+01, 1.42510267e+02, 3.45510729e+02, 8.37677640e+02,\n",
       "       2.03091762e+03, 4.92388263e+03, 1.19377664e+04, 2.89426612e+04,\n",
       "       7.01703829e+04, 1.70125428e+05, 4.12462638e+05, 1.00000000e+06])},\n",
       "                              return_train_score=True, scoring=&#x27;roc_auc&#x27;))])</pre><b>In a Jupyter environment, please rerun this cell to show the HTML representation or trust the notebook. <br />On GitHub, the HTML representation is unable to render, please try loading this page with nbviewer.org.</b></div><div class=\"sk-container\" hidden><div class=\"sk-item sk-dashed-wrapped\"><div class=\"sk-label-container\"><div class=\"sk-label sk-toggleable\"><input class=\"sk-toggleable__control sk-hidden--visually\" id=\"sk-estimator-id-11\" type=\"checkbox\" ><label for=\"sk-estimator-id-11\" class=\"sk-toggleable__label sk-toggleable__label-arrow\">Pipeline</label><div class=\"sk-toggleable__content\"><pre>Pipeline(steps=[(&#x27;my_bow_feature_extractor&#x27;,\n",
       "                 CountVectorizer(max_df=0.08, ngram_range=(1, 2))),\n",
       "                (&#x27;cross validation&#x27;,\n",
       "                 GridSearchCV(cv=5, error_score=&#x27;raise&#x27;,\n",
       "                              estimator=LogisticRegression(max_iter=200,\n",
       "                                                           solver=&#x27;liblinear&#x27;),\n",
       "                              param_grid={&#x27;C&#x27;: array([1.00000000e-09, 2.42446202e-09, 5.87801607e-09, 1.42510267e-08,\n",
       "       3.45510729e-08, 8.37677640e-08, 2.03091762e-07, 4.92388263e...\n",
       "       1.42510267e-03, 3.45510729e-03, 8.37677640e-03, 2.03091762e-02,\n",
       "       4.92388263e-02, 1.19377664e-01, 2.89426612e-01, 7.01703829e-01,\n",
       "       1.70125428e+00, 4.12462638e+00, 1.00000000e+01, 2.42446202e+01,\n",
       "       5.87801607e+01, 1.42510267e+02, 3.45510729e+02, 8.37677640e+02,\n",
       "       2.03091762e+03, 4.92388263e+03, 1.19377664e+04, 2.89426612e+04,\n",
       "       7.01703829e+04, 1.70125428e+05, 4.12462638e+05, 1.00000000e+06])},\n",
       "                              return_train_score=True, scoring=&#x27;roc_auc&#x27;))])</pre></div></div></div><div class=\"sk-serial\"><div class=\"sk-item\"><div class=\"sk-estimator sk-toggleable\"><input class=\"sk-toggleable__control sk-hidden--visually\" id=\"sk-estimator-id-12\" type=\"checkbox\" ><label for=\"sk-estimator-id-12\" class=\"sk-toggleable__label sk-toggleable__label-arrow\">CountVectorizer</label><div class=\"sk-toggleable__content\"><pre>CountVectorizer(max_df=0.08, ngram_range=(1, 2))</pre></div></div></div><div class=\"sk-item sk-dashed-wrapped\"><div class=\"sk-label-container\"><div class=\"sk-label sk-toggleable\"><input class=\"sk-toggleable__control sk-hidden--visually\" id=\"sk-estimator-id-13\" type=\"checkbox\" ><label for=\"sk-estimator-id-13\" class=\"sk-toggleable__label sk-toggleable__label-arrow\">cross validation: GridSearchCV</label><div class=\"sk-toggleable__content\"><pre>GridSearchCV(cv=5, error_score=&#x27;raise&#x27;,\n",
       "             estimator=LogisticRegression(max_iter=200, solver=&#x27;liblinear&#x27;),\n",
       "             param_grid={&#x27;C&#x27;: array([1.00000000e-09, 2.42446202e-09, 5.87801607e-09, 1.42510267e-08,\n",
       "       3.45510729e-08, 8.37677640e-08, 2.03091762e-07, 4.92388263e-07,\n",
       "       1.19377664e-06, 2.89426612e-06, 7.01703829e-06, 1.70125428e-05,\n",
       "       4.12462638e-05, 1.00000000e-04, 2.42446202e-04, 5....\n",
       "       1.42510267e-03, 3.45510729e-03, 8.37677640e-03, 2.03091762e-02,\n",
       "       4.92388263e-02, 1.19377664e-01, 2.89426612e-01, 7.01703829e-01,\n",
       "       1.70125428e+00, 4.12462638e+00, 1.00000000e+01, 2.42446202e+01,\n",
       "       5.87801607e+01, 1.42510267e+02, 3.45510729e+02, 8.37677640e+02,\n",
       "       2.03091762e+03, 4.92388263e+03, 1.19377664e+04, 2.89426612e+04,\n",
       "       7.01703829e+04, 1.70125428e+05, 4.12462638e+05, 1.00000000e+06])},\n",
       "             return_train_score=True, scoring=&#x27;roc_auc&#x27;)</pre></div></div></div><div class=\"sk-parallel\"><div class=\"sk-parallel-item\"><div class=\"sk-item\"><div class=\"sk-label-container\"><div class=\"sk-label sk-toggleable\"><input class=\"sk-toggleable__control sk-hidden--visually\" id=\"sk-estimator-id-14\" type=\"checkbox\" ><label for=\"sk-estimator-id-14\" class=\"sk-toggleable__label sk-toggleable__label-arrow\">estimator: LogisticRegression</label><div class=\"sk-toggleable__content\"><pre>LogisticRegression(max_iter=200, solver=&#x27;liblinear&#x27;)</pre></div></div></div><div class=\"sk-serial\"><div class=\"sk-item\"><div class=\"sk-estimator sk-toggleable\"><input class=\"sk-toggleable__control sk-hidden--visually\" id=\"sk-estimator-id-15\" type=\"checkbox\" ><label for=\"sk-estimator-id-15\" class=\"sk-toggleable__label sk-toggleable__label-arrow\">LogisticRegression</label><div class=\"sk-toggleable__content\"><pre>LogisticRegression(max_iter=200, solver=&#x27;liblinear&#x27;)</pre></div></div></div></div></div></div></div></div></div></div></div></div>"
      ],
      "text/plain": [
       "Pipeline(steps=[('my_bow_feature_extractor',\n",
       "                 CountVectorizer(max_df=0.08, ngram_range=(1, 2))),\n",
       "                ('cross validation',\n",
       "                 GridSearchCV(cv=5, error_score='raise',\n",
       "                              estimator=LogisticRegression(max_iter=200,\n",
       "                                                           solver='liblinear'),\n",
       "                              param_grid={'C': array([1.00000000e-09, 2.42446202e-09, 5.87801607e-09, 1.42510267e-08,\n",
       "       3.45510729e-08, 8.37677640e-08, 2.03091762e-07, 4.92388263e...\n",
       "       1.42510267e-03, 3.45510729e-03, 8.37677640e-03, 2.03091762e-02,\n",
       "       4.92388263e-02, 1.19377664e-01, 2.89426612e-01, 7.01703829e-01,\n",
       "       1.70125428e+00, 4.12462638e+00, 1.00000000e+01, 2.42446202e+01,\n",
       "       5.87801607e+01, 1.42510267e+02, 3.45510729e+02, 8.37677640e+02,\n",
       "       2.03091762e+03, 4.92388263e+03, 1.19377664e+04, 2.89426612e+04,\n",
       "       7.01703829e+04, 1.70125428e+05, 4.12462638e+05, 1.00000000e+06])},\n",
       "                              return_train_score=True, scoring='roc_auc'))])"
      ]
     },
     "execution_count": 61,
     "metadata": {},
     "output_type": "execute_result"
    }
   ],
   "source": [
    "# Create a logistic regression classifier\n",
    "logisticEvalHype = sklm.LogisticRegression(solver='liblinear',penalty=optParams['penalty'], max_iter=200)\n",
    "# Hyperparameters distributions - regularization strength C\n",
    "numFolds = 5\n",
    "CDist = np.logspace(-9,6,40)\n",
    "distEvalHype = dict(C = CDist) #[10**(-4), optParams['C'], 10**6])\n",
    "\n",
    "#Pipeline starts!\n",
    "evalHypeParamCPipe = sklearn.pipeline.Pipeline([\n",
    "    ('my_bow_feature_extractor', CountVectorizer(min_df=1, max_df=0.08, ngram_range=(1,2))),\n",
    "    ('cross validation', skms.GridSearchCV(logisticEvalHype, distEvalHype, cv=numFolds, verbose=0, \n",
    "                                                error_score='raise', scoring='roc_auc', return_train_score=True))\n",
    "])\n",
    "\n",
    "evalHypeParamCPipe.fit(review_list, rating_list)"
   ]
  },
  {
   "cell_type": "markdown",
   "metadata": {},
   "source": [
    "### Evaluating Best Max_iter:"
   ]
  },
  {
   "cell_type": "code",
   "execution_count": null,
   "metadata": {},
   "outputs": [],
   "source": [
    "# Create a logistic regression classifier\n",
    "logisticEvalHype = sklm.LogisticRegression(solver='liblinear',penalty=optParams['penalty'], C=optParams['C'])\n",
    "# Hyperparameters distributions - regularization strength C\n",
    "maxIterDist = np.logspace(np.log10(1),np.log10(50000),50, dtype=int)\n",
    "distEvalHype = dict(max_iter = maxIterDist) \n",
    "\n",
    "#Pipeline starts!\n",
    "evalHypeParamIterPipe = sklearn.pipeline.Pipeline([\n",
    "    ('my_bow_feature_extractor', CountVectorizer(min_df=1, max_df=1.0, ngram_range=(1,2))),\n",
    "    ('cross validation', skms.GridSearchCV(logisticEvalHype, distEvalHype, cv=5, verbose=0, \n",
    "                                                error_score='raise', scoring='roc_auc', return_train_score=True))\n",
    "])\n",
    "\n",
    "\n",
    "# Shuffle data\n",
    "# (shuffleReviews, shuffledRatings) = shuffle(review_list, rating_list, random_state=0)\n",
    "# evalHypeParamIterPipe.fit(shuffleReviews, shuffledRatings)\n",
    "evalHypeParamIterPipe.fit(review_list, rating_list)"
   ]
  },
  {
   "cell_type": "markdown",
   "metadata": {},
   "source": [
    "<f id='part6'></f>\n",
    "# Visualizing Effect of Varied C and Max Iteration on AUROC Score:"
   ]
  },
  {
   "cell_type": "code",
   "execution_count": 63,
   "metadata": {},
   "outputs": [
    {
     "name": "stdout",
     "output_type": "stream",
     "text": [
      "(5, 40)\n"
     ]
    },
    {
     "data": {
      "image/png": "[encoded data removed]",
      "text/plain": [
       "<Figure size 1000x800 with 2 Axes>"
      ]
     },
     "metadata": {},
     "output_type": "display_data"
    }
   ],
   "source": [
    "# Extract C data for plotting\n",
    "\n",
    "CVars = evalHypeParamCPipe['cross validation'].cv_results_\n",
    "\n",
    "C_Train = CVars['mean_train_score']\n",
    "C_Val = CVars['mean_test_score']\n",
    "C_TrainFolds = np.vstack((CVars['split0_train_score'], CVars['split1_train_score'], CVars['split2_train_score'], CVars['split3_train_score'], CVars['split4_train_score']))\n",
    "C_ValFolds = np.vstack((CVars['split0_test_score'], CVars['split1_test_score'], CVars['split2_test_score'], CVars['split3_test_score'], CVars['split4_test_score']))\n",
    "CDistFolds = np.tile(CDist, (numFolds,1))\n",
    "print(CDistFolds.shape)\n",
    "\n",
    "# Extract max_iter data for plotting\n",
    "IterVars = evalHypeParamIterPipe['cross validation'].cv_results_\n",
    "\n",
    "Iter_Train = IterVars['mean_train_score']\n",
    "Iter_Val = IterVars['mean_test_score']\n",
    "Iter_TrainFolds = np.vstack((IterVars['split0_train_score'], IterVars['split1_train_score'], IterVars['split2_train_score'], IterVars['split3_train_score'], IterVars['split4_train_score']))\n",
    "Iter_ValFolds = np.vstack((IterVars['split0_test_score'], IterVars['split1_test_score'], IterVars['split2_test_score'], IterVars['split3_test_score'], IterVars['split4_test_score']))\n",
    "IterDistFolds = np.tile(maxIterDist, (numFolds,1))\n",
    "\n",
    "# Plot accuracy vs C and max_iter hyperparameters\n",
    "\n",
    "fig, (ax1, ax2) = plt.subplots(2,1, figsize=(10,8))\n",
    "ax1.scatter(CDistFolds, C_TrainFolds, label='Training AUROC from Each Fold',marker='.')\n",
    "ax1.scatter(CDistFolds, C_ValFolds, label='Validation AUROC from Each Fold',marker='.')\n",
    "ax1.plot(CDist, C_Train, label='Mean Training AUROC')\n",
    "ax1.plot(CDist, C_Val, label='Mean Validation AUROC')\n",
    "ax1.legend()\n",
    "ax1.set_xlabel('C')\n",
    "ax1.set_ylabel('AUROC')\n",
    "ax1.set_xscale('log')\n",
    "ax1.grid(which='both')\n",
    "\n",
    "# fig, ax = plt.subplots()\n",
    "ax2.scatter(IterDistFolds, Iter_TrainFolds, label='Training AUROC from Each Fold',marker='.')\n",
    "ax2.scatter(IterDistFolds, Iter_ValFolds, label='Validation AUROC from Each Fold',marker='.')\n",
    "ax2.plot(maxIterDist, Iter_Train, label='Mean Training AUROC')\n",
    "ax2.plot(maxIterDist, Iter_Val, label='Mean Validation AUROC')\n",
    "ax2.legend(loc='center right', bbox_to_anchor=(1, 0.7))\n",
    "ax2.set_xlabel('Max Iterations')\n",
    "ax2.set_ylabel('AUROC')\n",
    "ax2.set_xscale('log')\n",
    "ax2.grid(which='major')"
   ]
  },
  {
   "cell_type": "markdown",
   "metadata": {},
   "source": [
    "# Different preprocessing attempts that led to worse AUROC scores:\n",
    "* Considering review source - Tried separating the reviews by the website they were extracted from (e.g. Amazon, IMDB, and Yelp).\n",
    "* n-grams and lemmenized words - Added a list of bigrams, trigrams, etc. to the tokens. \n",
    "* Parts of Speech - Tagged tokens in the review by parts of speech to remove adverbs."
   ]
  },
  {
   "cell_type": "markdown",
   "metadata": {},
   "source": [
    "# Separating text by website:"
   ]
  },
  {
   "cell_type": "code",
   "execution_count": 64,
   "metadata": {},
   "outputs": [],
   "source": [
    "#Adding stopwords\n",
    "stop_words = stopwords.words('english')\n",
    "added_words = [\"i've\", \"i'd\", \"i'm\", \"that's\", \"i'll\", \"was\", \"as\"]\n",
    "stop_words.extend(added_words) "
   ]
  },
  {
   "cell_type": "code",
   "execution_count": null,
   "metadata": {},
   "outputs": [],
   "source": [
    "#amazon tokens\n",
    "amazon_tokenz = clean_tokens(tokenizing(amazon_reviews))\n",
    "\n",
    "#imdb tokens\n",
    "imdb_tokenz = clean_tokens(tokenizing(imdb_reviews))\n",
    "\n",
    "#yelp tokens\n",
    "yelp_tokenz = clean_tokens(tokenizing(yelp_reviews))\n",
    "\n",
    "#all reiveiws:\n",
    "all_tokenz = clean_tokens(tokenizing(review_list))\n",
    "\n",
    "#printing words to file called q2_tokens.txt\n",
    "with open('q2_tokens.txt', 'w') as f:\n",
    "    f.write(str(all_tokenz))"
   ]
  },
  {
   "cell_type": "markdown",
   "metadata": {},
   "source": [
    "# Looking at bigrams, trigrams, etc..."
   ]
  },
  {
   "cell_type": "code",
   "execution_count": null,
   "metadata": {},
   "outputs": [],
   "source": [
    "#prints most common unigrams, bigrams, trigrams for any list of tokens\n",
    "def common_tokens(the_reviews):\n",
    "    all_counts = dict()\n",
    "    for size in 1, 2:\n",
    "        all_counts = FreqDist(ngrams(the_reviews, size))\n",
    "    \n",
    "    #print('unigrams:', all_counts[1].most_common(10))\n",
    "    #print('bigrams:', all_counts[2].most_common(10))\n",
    "    return all_counts\n",
    "#Printing top 10 most common bigrams and trigrams\n",
    "#Don't use anything above bigrams since the frequency is too low."
   ]
  },
  {
   "cell_type": "code",
   "execution_count": null,
   "metadata": {},
   "outputs": [],
   "source": [
    "#Looking at the most ommon unigrams, bigrams, trigrams for each website\n",
    "all_common_tokenz = common_tokens(clean_tokens(all_tokenz))"
   ]
  },
  {
   "cell_type": "code",
   "execution_count": null,
   "metadata": {},
   "outputs": [],
   "source": [
    "#For amazon. Already got rid of stopwords and punctuation.\n",
    "common_amazon_tokenz = common_tokens(clean_tokens(amazon_tokenz))"
   ]
  },
  {
   "cell_type": "code",
   "execution_count": null,
   "metadata": {},
   "outputs": [],
   "source": [
    "#For imdb. Already got rid of stopwords and punctuation.\n",
    "common_imdb_tokenz = common_tokens(clean_tokens(imdb_tokenz))"
   ]
  },
  {
   "cell_type": "code",
   "execution_count": null,
   "metadata": {},
   "outputs": [],
   "source": [
    "#For Yelp. Already got rid of stopwords and punctuation.\n",
    "common_yelp_tokenz = common_tokens(clean_tokens(yelp_tokenz))"
   ]
  },
  {
   "cell_type": "code",
   "execution_count": null,
   "metadata": {},
   "outputs": [],
   "source": [
    "#getting word frequency:\n",
    "def freq_dict(review_tokens):\n",
    "    word_freq = dict()\n",
    "\n",
    "    for tok in review_tokens:\n",
    "        if tok in word_freq:\n",
    "            word_freq[tok] += 1\n",
    "        else:\n",
    "            word_freq[tok] = 1\n",
    "\n",
    "    #sorting word frequency\n",
    "    sorted_word_freq = list(sorted(word_freq, key=word_freq.get, reverse=True))\n",
    "    print(sorted_word_freq[0:100])"
   ]
  },
  {
   "cell_type": "code",
   "execution_count": null,
   "metadata": {},
   "outputs": [
    {
     "name": "stdout",
     "output_type": "stream",
     "text": [
      "['good', 'great', 'movie', 'phone', 'the', 'film', 'one', 'food', 'place', 'like', 'a', 'service', 'time', 'bad', 'really', 'would', 'well', 'even', 'ever', 'best', 'back', 'also', 'go', 'is', 'quality', 'love', 'made', 'product', 'excellent', 'better', 'recommend', 'work', 'sound', 'could', 'get', 'works', 'was', 'nice', 'very', 'use', 'much', 'headset', 'make', 'first', 'not', 'see', 'way', 'never', 'think', 'still', 'battery', 'pretty', 'i', 'disappointed', 'acting', 'little', 'every', 'characters', 'price', 'case', '10', 'enough', '2', 'worst', 'ear', 'amazing', 'right', 'have', 'waste', 'say', 'came', 'got', 'everything', 'two', 'going', 'definitely', 'movies', 'thing', 'money', 'minutes', 'had', 'real', 'know', 'terrible', 'far', 'plot', 'wonderful', 'poor', 'many', 'new', 'look', 'give', 'people', 'friendly', 'piece', 'screen', 'life', 'story', 'restaurant', 'anyone']\n"
     ]
    }
   ],
   "source": [
    "#100 most common tokens\n",
    "freq_dict(all_tokenz)"
   ]
  },
  {
   "cell_type": "markdown",
   "metadata": {},
   "source": [
    "# Lemmenization! "
   ]
  },
  {
   "cell_type": "code",
   "execution_count": null,
   "metadata": {},
   "outputs": [],
   "source": [
    "with open('q2_lem_tokens.txt', 'w') as f:\n",
    "    f.write(str(lemmed_tokens))"
   ]
  },
  {
   "cell_type": "code",
   "execution_count": null,
   "metadata": {},
   "outputs": [],
   "source": [
    "for i in range(len(lem_tokens)):\n",
    "    if lem_tokens[i] != lemmed_tokens[i]:\n",
    "        print(lem_tokens[i], lemmed_tokens[i]) "
   ]
  },
  {
   "cell_type": "code",
   "execution_count": null,
   "metadata": {},
   "outputs": [],
   "source": [
    "freq_dict(lemmed_tokens)"
   ]
  },
  {
   "cell_type": "code",
   "execution_count": null,
   "metadata": {},
   "outputs": [],
   "source": [
    "common_lems = common_tokens(lemmed_tokens)\n",
    "print(type(common_lems))"
   ]
  },
  {
   "cell_type": "code",
   "execution_count": null,
   "metadata": {},
   "outputs": [],
   "source": [
    "#adding bigrams to token list. \n",
    "all_lem_bigrams = FreqDist(nltk.bigrams(lemmed_tokens)) \n",
    "\n",
    "for bigrams in range(len(all_lem_bigrams.most_common())):\n",
    "    if (all_lem_bigrams.most_common())[bigrams][1] > 2:\n",
    "        print((all_lem_bigrams.most_common())[bigrams][0], (all_lem_bigrams.most_common())[bigrams][1])\n",
    "        \n"
   ]
  },
  {
   "cell_type": "markdown",
   "metadata": {},
   "source": [
    "# NLTK Parts of Speech Tagging"
   ]
  },
  {
   "cell_type": "code",
   "execution_count": null,
   "metadata": {},
   "outputs": [],
   "source": [
    "#Using pos_tagging to tag all tokens. \n",
    "univ_tagged = pos_tag(all_tokenz, tagset='universal')\n",
    "univ_tag_fd = FreqDist(tag for (word, tag) in univ_tagged)\n",
    "print(univ_tag_fd.most_common())\n",
    "\n",
    "\n",
    "#Using more specific tags:\n",
    "adv_tagged = pos_tag(all_tokenz)\n",
    "adv_tag_fd = FreqDist(tag for (word, tag) in adv_tagged)\n",
    "print(adv_tag_fd.most_common())"
   ]
  },
  {
   "cell_type": "code",
   "execution_count": null,
   "metadata": {},
   "outputs": [],
   "source": [
    "word_tag_fd = FreqDist(univ_tagged)\n",
    "[wt[0] for (wt, _) in word_tag_fd.most_common() if wt[1] == \"NOUN\"]"
   ]
  },
  {
   "cell_type": "code",
   "execution_count": null,
   "metadata": {},
   "outputs": [],
   "source": [
    "word_tag_fd = FreqDist(adv_tagged)\n",
    "[wt[0] for (wt, _) in word_tag_fd.most_common() if wt[1] == \"NNP\"]"
   ]
  }
 ],
 "metadata": {
  "kernelspec": {
   "display_name": "Python 3",
   "language": "python",
   "name": "python3"
  },
  "language_info": {
   "codemirror_mode": {
    "name": "ipython",
    "version": 3
   },
   "file_extension": ".py",
   "mimetype": "text/x-python",
   "name": "python",
   "nbconvert_exporter": "python",
   "pygments_lexer": "ipython3",
   "version": "3.10.13"
  }
 },
 "nbformat": 4,
 "nbformat_minor": 2
}
